{
 "cells": [
  {
   "cell_type": "markdown",
   "id": "6424ef80",
   "metadata": {},
   "source": [
    "# Caiza Klar Laboratorio 2"
   ]
  },
  {
   "cell_type": "markdown",
   "id": "99cab7c7",
   "metadata": {},
   "source": [
    "## Limpieza de datos 08/07/2022"
   ]
  },
  {
   "cell_type": "code",
   "execution_count": 2,
   "id": "94650cd9",
   "metadata": {},
   "outputs": [],
   "source": [
    "'''Importamos las respectivas librerias para el desarrollo del laboratorio'''\n",
    "import pandas as pd\n",
    "import numpy as np\n",
    "import matplotlib.pyplot as plt \n",
    "import seaborn as sns\n",
    "from sklearn.impute import SimpleImputer"
   ]
  },
  {
   "cell_type": "code",
   "execution_count": 5,
   "id": "96898171",
   "metadata": {},
   "outputs": [],
   "source": [
    "'''Cargamos el conjunto de datos contenidos dentro del archivo csv'''\n",
    "df = pd.read_csv('data_act_01.csv', engine = 'python',sep=\";\")"
   ]
  },
  {
   "cell_type": "code",
   "execution_count": 7,
   "id": "64e7db2e",
   "metadata": {},
   "outputs": [
    {
     "data": {
      "text/html": [
       "<div>\n",
       "<style scoped>\n",
       "    .dataframe tbody tr th:only-of-type {\n",
       "        vertical-align: middle;\n",
       "    }\n",
       "\n",
       "    .dataframe tbody tr th {\n",
       "        vertical-align: top;\n",
       "    }\n",
       "\n",
       "    .dataframe thead th {\n",
       "        text-align: right;\n",
       "    }\n",
       "</style>\n",
       "<table border=\"1\" class=\"dataframe\">\n",
       "  <thead>\n",
       "    <tr style=\"text-align: right;\">\n",
       "      <th></th>\n",
       "      <th>CrimeId</th>\n",
       "      <th>OriginalCrimeTypeName</th>\n",
       "      <th>OffenseDate</th>\n",
       "      <th>CallTime</th>\n",
       "      <th>CallDateTime</th>\n",
       "      <th>Disposition</th>\n",
       "      <th>Address</th>\n",
       "      <th>City</th>\n",
       "      <th>State</th>\n",
       "      <th>AgencyId</th>\n",
       "      <th>Range</th>\n",
       "      <th>AddressType</th>\n",
       "    </tr>\n",
       "  </thead>\n",
       "  <tbody>\n",
       "    <tr>\n",
       "      <th>0</th>\n",
       "      <td>160903280</td>\n",
       "      <td>Assault / Battery</td>\n",
       "      <td>2016-03-30T00:00:00</td>\n",
       "      <td>18:42</td>\n",
       "      <td>2016-03-30T18:42:00</td>\n",
       "      <td>REP</td>\n",
       "      <td>100 Block Of Chilton Av</td>\n",
       "      <td>San Francisco</td>\n",
       "      <td>CA</td>\n",
       "      <td>1</td>\n",
       "      <td>NaN</td>\n",
       "      <td>Premise Address</td>\n",
       "    </tr>\n",
       "    <tr>\n",
       "      <th>1</th>\n",
       "      <td>160912272</td>\n",
       "      <td>Homeless Complaint</td>\n",
       "      <td>2016-03-31T00:00:00</td>\n",
       "      <td>15:31</td>\n",
       "      <td>2016-03-31T15:31:00</td>\n",
       "      <td>GOA</td>\n",
       "      <td>2300 Block Of Market St</td>\n",
       "      <td>San Francisco</td>\n",
       "      <td>CA</td>\n",
       "      <td>1</td>\n",
       "      <td>NaN</td>\n",
       "      <td>Premise Address</td>\n",
       "    </tr>\n",
       "    <tr>\n",
       "      <th>2</th>\n",
       "      <td>160912590</td>\n",
       "      <td>Susp Info</td>\n",
       "      <td>2016-03-31T00:00:00</td>\n",
       "      <td>16:49</td>\n",
       "      <td>2016-03-31T16:49:00</td>\n",
       "      <td>GOA</td>\n",
       "      <td>2300 Block Of Market St</td>\n",
       "      <td>San Francisco</td>\n",
       "      <td>CA</td>\n",
       "      <td>1</td>\n",
       "      <td>NaN</td>\n",
       "      <td>Premise Address</td>\n",
       "    </tr>\n",
       "    <tr>\n",
       "      <th>3</th>\n",
       "      <td>160912801</td>\n",
       "      <td>Report</td>\n",
       "      <td>2016-03-31T00:00:00</td>\n",
       "      <td>17:38</td>\n",
       "      <td>2016-03-31T17:38:00</td>\n",
       "      <td>GOA</td>\n",
       "      <td>500 Block Of 7th St</td>\n",
       "      <td>San Francisco</td>\n",
       "      <td>CA</td>\n",
       "      <td>1</td>\n",
       "      <td>NaN</td>\n",
       "      <td>Premise Address</td>\n",
       "    </tr>\n",
       "    <tr>\n",
       "      <th>4</th>\n",
       "      <td>160912811</td>\n",
       "      <td>594</td>\n",
       "      <td>2016-03-31T00:00:00</td>\n",
       "      <td>17:42</td>\n",
       "      <td>2016-03-31T17:42:00</td>\n",
       "      <td>REP</td>\n",
       "      <td>Beale St/bryant St</td>\n",
       "      <td>San Francisco</td>\n",
       "      <td>CA</td>\n",
       "      <td>1</td>\n",
       "      <td>NaN</td>\n",
       "      <td>Intersection</td>\n",
       "    </tr>\n",
       "  </tbody>\n",
       "</table>\n",
       "</div>"
      ],
      "text/plain": [
       "     CrimeId OriginalCrimeTypeName          OffenseDate CallTime  \\\n",
       "0  160903280     Assault / Battery  2016-03-30T00:00:00    18:42   \n",
       "1  160912272    Homeless Complaint  2016-03-31T00:00:00    15:31   \n",
       "2  160912590             Susp Info  2016-03-31T00:00:00    16:49   \n",
       "3  160912801                Report  2016-03-31T00:00:00    17:38   \n",
       "4  160912811                   594  2016-03-31T00:00:00    17:42   \n",
       "\n",
       "          CallDateTime Disposition                  Address           City  \\\n",
       "0  2016-03-30T18:42:00         REP  100 Block Of Chilton Av  San Francisco   \n",
       "1  2016-03-31T15:31:00         GOA  2300 Block Of Market St  San Francisco   \n",
       "2  2016-03-31T16:49:00         GOA  2300 Block Of Market St  San Francisco   \n",
       "3  2016-03-31T17:38:00         GOA      500 Block Of 7th St  San Francisco   \n",
       "4  2016-03-31T17:42:00         REP       Beale St/bryant St  San Francisco   \n",
       "\n",
       "  State AgencyId  Range      AddressType  \n",
       "0    CA        1    NaN  Premise Address  \n",
       "1    CA        1    NaN  Premise Address  \n",
       "2    CA        1    NaN  Premise Address  \n",
       "3    CA        1    NaN  Premise Address  \n",
       "4    CA        1    NaN     Intersection  "
      ]
     },
     "execution_count": 7,
     "metadata": {},
     "output_type": "execute_result"
    }
   ],
   "source": [
    "'''Imprimiremos las primeras 5 filas del archivo'''\n",
    "df.head()"
   ]
  },
  {
   "cell_type": "code",
   "execution_count": 8,
   "id": "bdb54843",
   "metadata": {},
   "outputs": [
    {
     "name": "stdout",
     "output_type": "stream",
     "text": [
      "<class 'pandas.core.frame.DataFrame'>\n",
      "RangeIndex: 10051 entries, 0 to 10050\n",
      "Data columns (total 12 columns):\n",
      " #   Column                 Non-Null Count  Dtype  \n",
      "---  ------                 --------------  -----  \n",
      " 0   CrimeId                10051 non-null  int64  \n",
      " 1   OriginalCrimeTypeName  10051 non-null  object \n",
      " 2   OffenseDate            10051 non-null  object \n",
      " 3   CallTime               10051 non-null  object \n",
      " 4   CallDateTime           10051 non-null  object \n",
      " 5   Disposition            10051 non-null  object \n",
      " 6   Address                10051 non-null  object \n",
      " 7   City                   9730 non-null   object \n",
      " 8   State                  10048 non-null  object \n",
      " 9   AgencyId               10051 non-null  object \n",
      " 10  Range                  0 non-null      float64\n",
      " 11  AddressType            10051 non-null  object \n",
      "dtypes: float64(1), int64(1), object(10)\n",
      "memory usage: 942.4+ KB\n"
     ]
    }
   ],
   "source": [
    "'''Verificamos si las variables fueron cargadas correctamente a traves\n",
    "de la funcion info y ded igual manera verificamos el tipo de variables'''\n",
    "df.info()"
   ]
  },
  {
   "cell_type": "code",
   "execution_count": 9,
   "id": "b81e2ed8",
   "metadata": {},
   "outputs": [
    {
     "data": {
      "text/plain": [
       "(10051, 12)"
      ]
     },
     "execution_count": 9,
     "metadata": {},
     "output_type": "execute_result"
    }
   ],
   "source": [
    "'''Imprimimos la cantidad de datos que posee el dataset en\n",
    "un funcion del número de filas y columnas'''\n",
    "df.shape"
   ]
  },
  {
   "cell_type": "code",
   "execution_count": 10,
   "id": "7356337e",
   "metadata": {},
   "outputs": [
    {
     "data": {
      "text/plain": [
       "CrimeId                      0\n",
       "OriginalCrimeTypeName        0\n",
       "OffenseDate                  0\n",
       "CallTime                     0\n",
       "CallDateTime                 0\n",
       "Disposition                  0\n",
       "Address                      0\n",
       "City                       321\n",
       "State                        3\n",
       "AgencyId                     0\n",
       "Range                    10051\n",
       "AddressType                  0\n",
       "dtype: int64"
      ]
     },
     "execution_count": 10,
     "metadata": {},
     "output_type": "execute_result"
    }
   ],
   "source": [
    "'''Verificamos si el dataset posee valores nulos mediante la suma'''\n",
    "df.isnull().sum()"
   ]
  },
  {
   "cell_type": "markdown",
   "id": "94a7d478",
   "metadata": {},
   "source": [
    "# Error 1\n",
    "# Eliminacion columnas \"Range\" y \"DateTime\""
   ]
  },
  {
   "cell_type": "code",
   "execution_count": 13,
   "id": "a6c3ddde",
   "metadata": {},
   "outputs": [
    {
     "data": {
      "text/html": [
       "<div>\n",
       "<style scoped>\n",
       "    .dataframe tbody tr th:only-of-type {\n",
       "        vertical-align: middle;\n",
       "    }\n",
       "\n",
       "    .dataframe tbody tr th {\n",
       "        vertical-align: top;\n",
       "    }\n",
       "\n",
       "    .dataframe thead th {\n",
       "        text-align: right;\n",
       "    }\n",
       "</style>\n",
       "<table border=\"1\" class=\"dataframe\">\n",
       "  <thead>\n",
       "    <tr style=\"text-align: right;\">\n",
       "      <th></th>\n",
       "      <th>CrimeId</th>\n",
       "      <th>OriginalCrimeTypeName</th>\n",
       "      <th>OffenseDate</th>\n",
       "      <th>CallTime</th>\n",
       "      <th>CallDateTime</th>\n",
       "      <th>Disposition</th>\n",
       "      <th>Address</th>\n",
       "      <th>City</th>\n",
       "      <th>State</th>\n",
       "      <th>AgencyId</th>\n",
       "      <th>AddressType</th>\n",
       "    </tr>\n",
       "  </thead>\n",
       "  <tbody>\n",
       "    <tr>\n",
       "      <th>0</th>\n",
       "      <td>160903280</td>\n",
       "      <td>Assault / Battery</td>\n",
       "      <td>2016-03-30T00:00:00</td>\n",
       "      <td>18:42</td>\n",
       "      <td>2016-03-30T18:42:00</td>\n",
       "      <td>REP</td>\n",
       "      <td>100 Block Of Chilton Av</td>\n",
       "      <td>San Francisco</td>\n",
       "      <td>CA</td>\n",
       "      <td>1</td>\n",
       "      <td>Premise Address</td>\n",
       "    </tr>\n",
       "    <tr>\n",
       "      <th>1</th>\n",
       "      <td>160912272</td>\n",
       "      <td>Homeless Complaint</td>\n",
       "      <td>2016-03-31T00:00:00</td>\n",
       "      <td>15:31</td>\n",
       "      <td>2016-03-31T15:31:00</td>\n",
       "      <td>GOA</td>\n",
       "      <td>2300 Block Of Market St</td>\n",
       "      <td>San Francisco</td>\n",
       "      <td>CA</td>\n",
       "      <td>1</td>\n",
       "      <td>Premise Address</td>\n",
       "    </tr>\n",
       "    <tr>\n",
       "      <th>2</th>\n",
       "      <td>160912590</td>\n",
       "      <td>Susp Info</td>\n",
       "      <td>2016-03-31T00:00:00</td>\n",
       "      <td>16:49</td>\n",
       "      <td>2016-03-31T16:49:00</td>\n",
       "      <td>GOA</td>\n",
       "      <td>2300 Block Of Market St</td>\n",
       "      <td>San Francisco</td>\n",
       "      <td>CA</td>\n",
       "      <td>1</td>\n",
       "      <td>Premise Address</td>\n",
       "    </tr>\n",
       "    <tr>\n",
       "      <th>3</th>\n",
       "      <td>160912801</td>\n",
       "      <td>Report</td>\n",
       "      <td>2016-03-31T00:00:00</td>\n",
       "      <td>17:38</td>\n",
       "      <td>2016-03-31T17:38:00</td>\n",
       "      <td>GOA</td>\n",
       "      <td>500 Block Of 7th St</td>\n",
       "      <td>San Francisco</td>\n",
       "      <td>CA</td>\n",
       "      <td>1</td>\n",
       "      <td>Premise Address</td>\n",
       "    </tr>\n",
       "    <tr>\n",
       "      <th>4</th>\n",
       "      <td>160912811</td>\n",
       "      <td>594</td>\n",
       "      <td>2016-03-31T00:00:00</td>\n",
       "      <td>17:42</td>\n",
       "      <td>2016-03-31T17:42:00</td>\n",
       "      <td>REP</td>\n",
       "      <td>Beale St/bryant St</td>\n",
       "      <td>San Francisco</td>\n",
       "      <td>CA</td>\n",
       "      <td>1</td>\n",
       "      <td>Intersection</td>\n",
       "    </tr>\n",
       "    <tr>\n",
       "      <th>...</th>\n",
       "      <td>...</td>\n",
       "      <td>...</td>\n",
       "      <td>...</td>\n",
       "      <td>...</td>\n",
       "      <td>...</td>\n",
       "      <td>...</td>\n",
       "      <td>...</td>\n",
       "      <td>...</td>\n",
       "      <td>...</td>\n",
       "      <td>...</td>\n",
       "      <td>...</td>\n",
       "    </tr>\n",
       "    <tr>\n",
       "      <th>10046</th>\n",
       "      <td>160964210</td>\n",
       "      <td>Well Being Check</td>\n",
       "      <td>2016-04-05T00:00:00</td>\n",
       "      <td>23:38</td>\n",
       "      <td>2016-04-05T23:38:00</td>\n",
       "      <td>GOA</td>\n",
       "      <td>Hollister Av/hawes St</td>\n",
       "      <td>San Francisco</td>\n",
       "      <td>CA</td>\n",
       "      <td>1</td>\n",
       "      <td>Intersection</td>\n",
       "    </tr>\n",
       "    <tr>\n",
       "      <th>10047</th>\n",
       "      <td>160964216</td>\n",
       "      <td>Traffic Stop</td>\n",
       "      <td>2016-04-05T00:00:00</td>\n",
       "      <td>23:43</td>\n",
       "      <td>2016-04-05T23:43:00</td>\n",
       "      <td>ADV</td>\n",
       "      <td>California St/mason St</td>\n",
       "      <td>San Francisco</td>\n",
       "      <td>CA</td>\n",
       "      <td>1</td>\n",
       "      <td>Intersection</td>\n",
       "    </tr>\n",
       "    <tr>\n",
       "      <th>10048</th>\n",
       "      <td>160964227</td>\n",
       "      <td>Traffic Stop</td>\n",
       "      <td>2016-04-05T00:00:00</td>\n",
       "      <td>23:48</td>\n",
       "      <td>2016-04-05T23:48:00</td>\n",
       "      <td>CIT</td>\n",
       "      <td>Rosella Ct/onondaga Av</td>\n",
       "      <td>San Francisco</td>\n",
       "      <td>CA</td>\n",
       "      <td>1</td>\n",
       "      <td>Intersection</td>\n",
       "    </tr>\n",
       "    <tr>\n",
       "      <th>10049</th>\n",
       "      <td>160964229</td>\n",
       "      <td>Passing Call</td>\n",
       "      <td>2016-04-05T00:00:00</td>\n",
       "      <td>23:48</td>\n",
       "      <td>2016-04-05T23:48:00</td>\n",
       "      <td>Not recorded</td>\n",
       "      <td>0 Blk Herbst Rd</td>\n",
       "      <td>San Francisco</td>\n",
       "      <td>CA</td>\n",
       "      <td>1</td>\n",
       "      <td>Geo-Override</td>\n",
       "    </tr>\n",
       "    <tr>\n",
       "      <th>10050</th>\n",
       "      <td>160964249</td>\n",
       "      <td>Traffic Stop</td>\n",
       "      <td>2016-04-05T00:00:00</td>\n",
       "      <td>23:54</td>\n",
       "      <td>2016-04-05T23:54:00</td>\n",
       "      <td>ADV</td>\n",
       "      <td>Grant Av/geary St</td>\n",
       "      <td>San Francisco</td>\n",
       "      <td>CA</td>\n",
       "      <td>1</td>\n",
       "      <td>Intersection</td>\n",
       "    </tr>\n",
       "  </tbody>\n",
       "</table>\n",
       "<p>10051 rows × 11 columns</p>\n",
       "</div>"
      ],
      "text/plain": [
       "         CrimeId OriginalCrimeTypeName          OffenseDate CallTime  \\\n",
       "0      160903280     Assault / Battery  2016-03-30T00:00:00    18:42   \n",
       "1      160912272    Homeless Complaint  2016-03-31T00:00:00    15:31   \n",
       "2      160912590             Susp Info  2016-03-31T00:00:00    16:49   \n",
       "3      160912801                Report  2016-03-31T00:00:00    17:38   \n",
       "4      160912811                   594  2016-03-31T00:00:00    17:42   \n",
       "...          ...                   ...                  ...      ...   \n",
       "10046  160964210      Well Being Check  2016-04-05T00:00:00    23:38   \n",
       "10047  160964216          Traffic Stop  2016-04-05T00:00:00    23:43   \n",
       "10048  160964227          Traffic Stop  2016-04-05T00:00:00    23:48   \n",
       "10049  160964229          Passing Call  2016-04-05T00:00:00    23:48   \n",
       "10050  160964249          Traffic Stop  2016-04-05T00:00:00    23:54   \n",
       "\n",
       "              CallDateTime   Disposition                  Address  \\\n",
       "0      2016-03-30T18:42:00           REP  100 Block Of Chilton Av   \n",
       "1      2016-03-31T15:31:00           GOA  2300 Block Of Market St   \n",
       "2      2016-03-31T16:49:00           GOA  2300 Block Of Market St   \n",
       "3      2016-03-31T17:38:00           GOA      500 Block Of 7th St   \n",
       "4      2016-03-31T17:42:00           REP       Beale St/bryant St   \n",
       "...                    ...           ...                      ...   \n",
       "10046  2016-04-05T23:38:00           GOA    Hollister Av/hawes St   \n",
       "10047  2016-04-05T23:43:00           ADV   California St/mason St   \n",
       "10048  2016-04-05T23:48:00           CIT   Rosella Ct/onondaga Av   \n",
       "10049  2016-04-05T23:48:00  Not recorded          0 Blk Herbst Rd   \n",
       "10050  2016-04-05T23:54:00           ADV        Grant Av/geary St   \n",
       "\n",
       "                City State AgencyId      AddressType  \n",
       "0      San Francisco    CA        1  Premise Address  \n",
       "1      San Francisco    CA        1  Premise Address  \n",
       "2      San Francisco    CA        1  Premise Address  \n",
       "3      San Francisco    CA        1  Premise Address  \n",
       "4      San Francisco    CA        1     Intersection  \n",
       "...              ...   ...      ...              ...  \n",
       "10046  San Francisco    CA        1     Intersection  \n",
       "10047  San Francisco    CA        1     Intersection  \n",
       "10048  San Francisco    CA        1     Intersection  \n",
       "10049  San Francisco    CA        1     Geo-Override  \n",
       "10050  San Francisco    CA        1     Intersection  \n",
       "\n",
       "[10051 rows x 11 columns]"
      ]
     },
     "execution_count": 13,
     "metadata": {},
     "output_type": "execute_result"
    }
   ],
   "source": [
    "'''Eliminacion columna range'''\n",
    "df= df.drop(columns=['Range'], errors='ignore')\n",
    "df"
   ]
  },
  {
   "cell_type": "code",
   "execution_count": 26,
   "id": "12b749aa",
   "metadata": {},
   "outputs": [
    {
     "data": {
      "text/html": [
       "<div>\n",
       "<style scoped>\n",
       "    .dataframe tbody tr th:only-of-type {\n",
       "        vertical-align: middle;\n",
       "    }\n",
       "\n",
       "    .dataframe tbody tr th {\n",
       "        vertical-align: top;\n",
       "    }\n",
       "\n",
       "    .dataframe thead th {\n",
       "        text-align: right;\n",
       "    }\n",
       "</style>\n",
       "<table border=\"1\" class=\"dataframe\">\n",
       "  <thead>\n",
       "    <tr style=\"text-align: right;\">\n",
       "      <th></th>\n",
       "      <th>CrimeId</th>\n",
       "      <th>OriginalCrimeTypeName</th>\n",
       "      <th>OffenseDate</th>\n",
       "      <th>CallTime</th>\n",
       "      <th>Disposition</th>\n",
       "      <th>Address</th>\n",
       "      <th>City</th>\n",
       "      <th>State</th>\n",
       "      <th>AgencyId</th>\n",
       "      <th>AddressType</th>\n",
       "    </tr>\n",
       "  </thead>\n",
       "  <tbody>\n",
       "    <tr>\n",
       "      <th>0</th>\n",
       "      <td>160903280</td>\n",
       "      <td>Assault / Battery</td>\n",
       "      <td>2016-03-30T00:00:00</td>\n",
       "      <td>18:42</td>\n",
       "      <td>REP</td>\n",
       "      <td>100 Block Of Chilton Av</td>\n",
       "      <td>San Francisco</td>\n",
       "      <td>CA</td>\n",
       "      <td>1</td>\n",
       "      <td>Premise Address</td>\n",
       "    </tr>\n",
       "    <tr>\n",
       "      <th>1</th>\n",
       "      <td>160912272</td>\n",
       "      <td>Homeless Complaint</td>\n",
       "      <td>2016-03-31T00:00:00</td>\n",
       "      <td>15:31</td>\n",
       "      <td>GOA</td>\n",
       "      <td>2300 Block Of Market St</td>\n",
       "      <td>San Francisco</td>\n",
       "      <td>CA</td>\n",
       "      <td>1</td>\n",
       "      <td>Premise Address</td>\n",
       "    </tr>\n",
       "    <tr>\n",
       "      <th>2</th>\n",
       "      <td>160912590</td>\n",
       "      <td>Susp Info</td>\n",
       "      <td>2016-03-31T00:00:00</td>\n",
       "      <td>16:49</td>\n",
       "      <td>GOA</td>\n",
       "      <td>2300 Block Of Market St</td>\n",
       "      <td>San Francisco</td>\n",
       "      <td>CA</td>\n",
       "      <td>1</td>\n",
       "      <td>Premise Address</td>\n",
       "    </tr>\n",
       "    <tr>\n",
       "      <th>3</th>\n",
       "      <td>160912801</td>\n",
       "      <td>Report</td>\n",
       "      <td>2016-03-31T00:00:00</td>\n",
       "      <td>17:38</td>\n",
       "      <td>GOA</td>\n",
       "      <td>500 Block Of 7th St</td>\n",
       "      <td>San Francisco</td>\n",
       "      <td>CA</td>\n",
       "      <td>1</td>\n",
       "      <td>Premise Address</td>\n",
       "    </tr>\n",
       "    <tr>\n",
       "      <th>4</th>\n",
       "      <td>160912811</td>\n",
       "      <td>594</td>\n",
       "      <td>2016-03-31T00:00:00</td>\n",
       "      <td>17:42</td>\n",
       "      <td>REP</td>\n",
       "      <td>Beale St/bryant St</td>\n",
       "      <td>San Francisco</td>\n",
       "      <td>CA</td>\n",
       "      <td>1</td>\n",
       "      <td>Intersection</td>\n",
       "    </tr>\n",
       "  </tbody>\n",
       "</table>\n",
       "</div>"
      ],
      "text/plain": [
       "     CrimeId OriginalCrimeTypeName          OffenseDate CallTime Disposition  \\\n",
       "0  160903280     Assault / Battery  2016-03-30T00:00:00    18:42         REP   \n",
       "1  160912272    Homeless Complaint  2016-03-31T00:00:00    15:31         GOA   \n",
       "2  160912590             Susp Info  2016-03-31T00:00:00    16:49         GOA   \n",
       "3  160912801                Report  2016-03-31T00:00:00    17:38         GOA   \n",
       "4  160912811                   594  2016-03-31T00:00:00    17:42         REP   \n",
       "\n",
       "                   Address           City State AgencyId      AddressType  \n",
       "0  100 Block Of Chilton Av  San Francisco    CA        1  Premise Address  \n",
       "1  2300 Block Of Market St  San Francisco    CA        1  Premise Address  \n",
       "2  2300 Block Of Market St  San Francisco    CA        1  Premise Address  \n",
       "3      500 Block Of 7th St  San Francisco    CA        1  Premise Address  \n",
       "4       Beale St/bryant St  San Francisco    CA        1     Intersection  "
      ]
     },
     "execution_count": 26,
     "metadata": {},
     "output_type": "execute_result"
    }
   ],
   "source": [
    "'''Eliminacion columa dateTime'''\n",
    "df= df.drop(columns=['CallDateTime'], errors='ignore')\n",
    "'''Imprimimos el nuevo dataset'''\n",
    "df.head()"
   ]
  },
  {
   "cell_type": "markdown",
   "id": "2b177f55",
   "metadata": {},
   "source": [
    "## Verificacion error 1"
   ]
  },
  {
   "cell_type": "markdown",
   "id": "78246650",
   "metadata": {},
   "source": [
    "Una vez realizada la importacion de todas las librerias, ademas de cargar y analizar el dataset, logramos identificar el primer error correspondiente a diversas columnas que no son relevantes. Como primer error en el dataset se identificaron varias columnas que poseen datos vacios o nulos siendo esta Range y una columna que es redundante para el dataset siendo CallDateTime, ya que existen columnas encargadas de ofrecer informacion de la hora y fecha. Ambas columnas ocupan espacio dentro del dataset y pueden desembocar en errores futuros al manejar dicho dataset. Para el manejo de columnas innecesarias, se hizo uso de la funcion drop el cual es el encargado de elimnar las columnas que se agreguen. Finalmente logramos imprimir el nuevo dataset con las columnas ya eliminadas a traves de su impresion mediande sample, el cual permite imprimir cierta cantidad de columnas aleatorias."
   ]
  },
  {
   "cell_type": "code",
   "execution_count": 27,
   "id": "ca24a90c",
   "metadata": {},
   "outputs": [
    {
     "data": {
      "text/html": [
       "<div>\n",
       "<style scoped>\n",
       "    .dataframe tbody tr th:only-of-type {\n",
       "        vertical-align: middle;\n",
       "    }\n",
       "\n",
       "    .dataframe tbody tr th {\n",
       "        vertical-align: top;\n",
       "    }\n",
       "\n",
       "    .dataframe thead th {\n",
       "        text-align: right;\n",
       "    }\n",
       "</style>\n",
       "<table border=\"1\" class=\"dataframe\">\n",
       "  <thead>\n",
       "    <tr style=\"text-align: right;\">\n",
       "      <th></th>\n",
       "      <th>CrimeId</th>\n",
       "      <th>OriginalCrimeTypeName</th>\n",
       "      <th>OffenseDate</th>\n",
       "      <th>CallTime</th>\n",
       "      <th>Disposition</th>\n",
       "      <th>Address</th>\n",
       "      <th>City</th>\n",
       "      <th>State</th>\n",
       "      <th>AgencyId</th>\n",
       "      <th>AddressType</th>\n",
       "    </tr>\n",
       "  </thead>\n",
       "  <tbody>\n",
       "    <tr>\n",
       "      <th>3120</th>\n",
       "      <td>160931436</td>\n",
       "      <td>22500e</td>\n",
       "      <td>2016-04-02T00:00:00</td>\n",
       "      <td>11:42</td>\n",
       "      <td>GOA</td>\n",
       "      <td>1100 Block Of Moraga St</td>\n",
       "      <td>San Francisco</td>\n",
       "      <td>CA</td>\n",
       "      <td>1</td>\n",
       "      <td>Premise Address</td>\n",
       "    </tr>\n",
       "    <tr>\n",
       "      <th>5755</th>\n",
       "      <td>160942084</td>\n",
       "      <td>Suspicious Person</td>\n",
       "      <td>2016-04-03T00:00:00</td>\n",
       "      <td>14:22</td>\n",
       "      <td>REP</td>\n",
       "      <td>Haight St/shrader St</td>\n",
       "      <td>San Francisco</td>\n",
       "      <td>CA</td>\n",
       "      <td>1</td>\n",
       "      <td>Intersection</td>\n",
       "    </tr>\n",
       "    <tr>\n",
       "      <th>2481</th>\n",
       "      <td>160930261</td>\n",
       "      <td>Noise Nuisance</td>\n",
       "      <td>2016-04-02T00:00:00</td>\n",
       "      <td>1:44</td>\n",
       "      <td>GOA</td>\n",
       "      <td>Ofarrell St/larkin St</td>\n",
       "      <td>San Francisco</td>\n",
       "      <td>CA</td>\n",
       "      <td>1</td>\n",
       "      <td>Intersection</td>\n",
       "    </tr>\n",
       "  </tbody>\n",
       "</table>\n",
       "</div>"
      ],
      "text/plain": [
       "        CrimeId OriginalCrimeTypeName          OffenseDate CallTime  \\\n",
       "3120  160931436                22500e  2016-04-02T00:00:00    11:42   \n",
       "5755  160942084     Suspicious Person  2016-04-03T00:00:00    14:22   \n",
       "2481  160930261        Noise Nuisance  2016-04-02T00:00:00     1:44   \n",
       "\n",
       "     Disposition                  Address           City State AgencyId  \\\n",
       "3120         GOA  1100 Block Of Moraga St  San Francisco    CA        1   \n",
       "5755         REP     Haight St/shrader St  San Francisco    CA        1   \n",
       "2481         GOA    Ofarrell St/larkin St  San Francisco    CA        1   \n",
       "\n",
       "          AddressType  \n",
       "3120  Premise Address  \n",
       "5755     Intersection  \n",
       "2481     Intersection  "
      ]
     },
     "execution_count": 27,
     "metadata": {},
     "output_type": "execute_result"
    }
   ],
   "source": [
    "'''Nuevo dataset sin las columnas eliminadas'''\n",
    "df.sample(3)"
   ]
  },
  {
   "cell_type": "markdown",
   "id": "302a6789",
   "metadata": {},
   "source": [
    "# Error 2\n",
    "# Rellenar columna \"city\" debido valores nulos"
   ]
  },
  {
   "cell_type": "code",
   "execution_count": 28,
   "id": "9d3ca02b",
   "metadata": {},
   "outputs": [
    {
     "data": {
      "text/html": [
       "<div>\n",
       "<style scoped>\n",
       "    .dataframe tbody tr th:only-of-type {\n",
       "        vertical-align: middle;\n",
       "    }\n",
       "\n",
       "    .dataframe tbody tr th {\n",
       "        vertical-align: top;\n",
       "    }\n",
       "\n",
       "    .dataframe thead th {\n",
       "        text-align: right;\n",
       "    }\n",
       "</style>\n",
       "<table border=\"1\" class=\"dataframe\">\n",
       "  <thead>\n",
       "    <tr style=\"text-align: right;\">\n",
       "      <th></th>\n",
       "      <th>CrimeId</th>\n",
       "      <th>OriginalCrimeTypeName</th>\n",
       "      <th>OffenseDate</th>\n",
       "      <th>CallTime</th>\n",
       "      <th>Disposition</th>\n",
       "      <th>Address</th>\n",
       "      <th>City</th>\n",
       "      <th>State</th>\n",
       "      <th>AgencyId</th>\n",
       "      <th>AddressType</th>\n",
       "    </tr>\n",
       "  </thead>\n",
       "  <tbody>\n",
       "    <tr>\n",
       "      <th>0</th>\n",
       "      <td>160903280</td>\n",
       "      <td>Assault / Battery</td>\n",
       "      <td>2016-03-30T00:00:00</td>\n",
       "      <td>18:42</td>\n",
       "      <td>REP</td>\n",
       "      <td>100 Block Of Chilton Av</td>\n",
       "      <td>San Francisco</td>\n",
       "      <td>CA</td>\n",
       "      <td>1</td>\n",
       "      <td>Premise Address</td>\n",
       "    </tr>\n",
       "    <tr>\n",
       "      <th>1</th>\n",
       "      <td>160912272</td>\n",
       "      <td>Homeless Complaint</td>\n",
       "      <td>2016-03-31T00:00:00</td>\n",
       "      <td>15:31</td>\n",
       "      <td>GOA</td>\n",
       "      <td>2300 Block Of Market St</td>\n",
       "      <td>San Francisco</td>\n",
       "      <td>CA</td>\n",
       "      <td>1</td>\n",
       "      <td>Premise Address</td>\n",
       "    </tr>\n",
       "    <tr>\n",
       "      <th>2</th>\n",
       "      <td>160912590</td>\n",
       "      <td>Susp Info</td>\n",
       "      <td>2016-03-31T00:00:00</td>\n",
       "      <td>16:49</td>\n",
       "      <td>GOA</td>\n",
       "      <td>2300 Block Of Market St</td>\n",
       "      <td>San Francisco</td>\n",
       "      <td>CA</td>\n",
       "      <td>1</td>\n",
       "      <td>Premise Address</td>\n",
       "    </tr>\n",
       "    <tr>\n",
       "      <th>3</th>\n",
       "      <td>160912801</td>\n",
       "      <td>Report</td>\n",
       "      <td>2016-03-31T00:00:00</td>\n",
       "      <td>17:38</td>\n",
       "      <td>GOA</td>\n",
       "      <td>500 Block Of 7th St</td>\n",
       "      <td>San Francisco</td>\n",
       "      <td>CA</td>\n",
       "      <td>1</td>\n",
       "      <td>Premise Address</td>\n",
       "    </tr>\n",
       "    <tr>\n",
       "      <th>4</th>\n",
       "      <td>160912811</td>\n",
       "      <td>594</td>\n",
       "      <td>2016-03-31T00:00:00</td>\n",
       "      <td>17:42</td>\n",
       "      <td>REP</td>\n",
       "      <td>Beale St/bryant St</td>\n",
       "      <td>San Francisco</td>\n",
       "      <td>CA</td>\n",
       "      <td>1</td>\n",
       "      <td>Intersection</td>\n",
       "    </tr>\n",
       "  </tbody>\n",
       "</table>\n",
       "</div>"
      ],
      "text/plain": [
       "     CrimeId OriginalCrimeTypeName          OffenseDate CallTime Disposition  \\\n",
       "0  160903280     Assault / Battery  2016-03-30T00:00:00    18:42         REP   \n",
       "1  160912272    Homeless Complaint  2016-03-31T00:00:00    15:31         GOA   \n",
       "2  160912590             Susp Info  2016-03-31T00:00:00    16:49         GOA   \n",
       "3  160912801                Report  2016-03-31T00:00:00    17:38         GOA   \n",
       "4  160912811                   594  2016-03-31T00:00:00    17:42         REP   \n",
       "\n",
       "                   Address           City State AgencyId      AddressType  \n",
       "0  100 Block Of Chilton Av  San Francisco    CA        1  Premise Address  \n",
       "1  2300 Block Of Market St  San Francisco    CA        1  Premise Address  \n",
       "2  2300 Block Of Market St  San Francisco    CA        1  Premise Address  \n",
       "3      500 Block Of 7th St  San Francisco    CA        1  Premise Address  \n",
       "4       Beale St/bryant St  San Francisco    CA        1     Intersection  "
      ]
     },
     "execution_count": 28,
     "metadata": {},
     "output_type": "execute_result"
    }
   ],
   "source": [
    "'''Rellenamos la columna city por valores N/A ya que al poseer valores nulos pueden afectar al dataset'''\n",
    "df[['City', 'State']] = df[['City','State']].fillna(value=\"N/A\")\n",
    "'''Imprimimos el nuevo dataset'''\n",
    "df.head()"
   ]
  },
  {
   "cell_type": "markdown",
   "id": "f0c8c7de",
   "metadata": {},
   "source": [
    "## Verificacion Error 2"
   ]
  },
  {
   "cell_type": "markdown",
   "id": "342a9bdd",
   "metadata": {},
   "source": [
    "Posteriormente se logro identificar un nuevo error dentro del dataset pertenciente a la columna city. Como se pudo analizar en pasos anteriores, al momento de realizar la suma de valores nulos dentro del dataset aparecio la columna city y range. Como se pudo observar la columna city, poseia un total  de 321 datos nulos y esto se modificara gracias a la funcion fillna. Como se puede apreciar en el paso anterior se modifico los valores nulos para que imprima N/A ya que al ser valores nulos, no se puede comprender la ciudad de donde proviene dicha informacion, por eso no se rellenan de manera hipotetica con cualquier otra ciudad. A continuacion, se puede apreciar como veriricamos el dataset nuevamente a traves de una suma de valores nulos y ya no existen valores como tal. Ademas a traves de la funcion groupby y agregamos la columna de ciudad podemos imprimir cada una de las ciudad correspondientes y existe una nueva que es N/A la cual fue agregada por nosotros."
   ]
  },
  {
   "cell_type": "code",
   "execution_count": 29,
   "id": "505f5905",
   "metadata": {},
   "outputs": [
    {
     "data": {
      "text/plain": [
       "CrimeId                  0\n",
       "OriginalCrimeTypeName    0\n",
       "OffenseDate              0\n",
       "CallTime                 0\n",
       "Disposition              0\n",
       "Address                  0\n",
       "City                     0\n",
       "State                    0\n",
       "AgencyId                 0\n",
       "AddressType              0\n",
       "dtype: int64"
      ]
     },
     "execution_count": 29,
     "metadata": {},
     "output_type": "execute_result"
    }
   ],
   "source": [
    "'''Verificamos nuevamente el dataset'''\n",
    "df.isnull().sum()"
   ]
  },
  {
   "cell_type": "code",
   "execution_count": 30,
   "id": "4f7c53b8",
   "metadata": {},
   "outputs": [
    {
     "data": {
      "text/plain": [
       "City\n",
       " S                  1\n",
       "Brisbane            1\n",
       "Daly City           5\n",
       "N/A               321\n",
       "Presidio            3\n",
       "SAN FRANCISCO       1\n",
       "San Francisco    9665\n",
       "Treasure Isla      51\n",
       "Yerba Buena         3\n",
       "dtype: int64"
      ]
     },
     "execution_count": 30,
     "metadata": {},
     "output_type": "execute_result"
    }
   ],
   "source": [
    "'''Verificamos las ciudades dentro de la columna city y el nuevo datos N/A'''\n",
    "df.groupby('City').size()"
   ]
  },
  {
   "cell_type": "markdown",
   "id": "73f5e8a8",
   "metadata": {},
   "source": [
    "# Error 3\n",
    "# Control de ciudades, columna \"city\""
   ]
  },
  {
   "cell_type": "code",
   "execution_count": 32,
   "id": "63b20c19",
   "metadata": {},
   "outputs": [
    {
     "data": {
      "text/html": [
       "<div>\n",
       "<style scoped>\n",
       "    .dataframe tbody tr th:only-of-type {\n",
       "        vertical-align: middle;\n",
       "    }\n",
       "\n",
       "    .dataframe tbody tr th {\n",
       "        vertical-align: top;\n",
       "    }\n",
       "\n",
       "    .dataframe thead th {\n",
       "        text-align: right;\n",
       "    }\n",
       "</style>\n",
       "<table border=\"1\" class=\"dataframe\">\n",
       "  <thead>\n",
       "    <tr style=\"text-align: right;\">\n",
       "      <th></th>\n",
       "      <th>CrimeId</th>\n",
       "      <th>OriginalCrimeTypeName</th>\n",
       "      <th>OffenseDate</th>\n",
       "      <th>CallTime</th>\n",
       "      <th>Disposition</th>\n",
       "      <th>Address</th>\n",
       "      <th>City</th>\n",
       "      <th>State</th>\n",
       "      <th>AgencyId</th>\n",
       "      <th>AddressType</th>\n",
       "    </tr>\n",
       "  </thead>\n",
       "  <tbody>\n",
       "    <tr>\n",
       "      <th>8857</th>\n",
       "      <td>160953826</td>\n",
       "      <td>Homeless Complaint</td>\n",
       "      <td>2016-04-04T00:00:00</td>\n",
       "      <td>21:42</td>\n",
       "      <td>ADV</td>\n",
       "      <td>Merlin St/harrison St</td>\n",
       "      <td>San Francisco</td>\n",
       "      <td>CA</td>\n",
       "      <td>1</td>\n",
       "      <td>Intersection</td>\n",
       "    </tr>\n",
       "    <tr>\n",
       "      <th>2870</th>\n",
       "      <td>160930981</td>\n",
       "      <td>Suspicious Person</td>\n",
       "      <td>2016-04-02T00:00:00</td>\n",
       "      <td>9:17</td>\n",
       "      <td>GOA</td>\n",
       "      <td>Larkin St/bush St</td>\n",
       "      <td>San Francisco</td>\n",
       "      <td>CA</td>\n",
       "      <td>1</td>\n",
       "      <td>Intersection</td>\n",
       "    </tr>\n",
       "    <tr>\n",
       "      <th>364</th>\n",
       "      <td>160920459</td>\n",
       "      <td>Passing Call</td>\n",
       "      <td>2016-04-01T00:00:00</td>\n",
       "      <td>5:50</td>\n",
       "      <td>ADV</td>\n",
       "      <td>Block Of Haight St</td>\n",
       "      <td>San Francisco</td>\n",
       "      <td>CA</td>\n",
       "      <td>1</td>\n",
       "      <td>Premise Address</td>\n",
       "    </tr>\n",
       "  </tbody>\n",
       "</table>\n",
       "</div>"
      ],
      "text/plain": [
       "        CrimeId OriginalCrimeTypeName          OffenseDate CallTime  \\\n",
       "8857  160953826    Homeless Complaint  2016-04-04T00:00:00    21:42   \n",
       "2870  160930981     Suspicious Person  2016-04-02T00:00:00     9:17   \n",
       "364   160920459          Passing Call  2016-04-01T00:00:00     5:50   \n",
       "\n",
       "     Disposition                Address           City State AgencyId  \\\n",
       "8857         ADV  Merlin St/harrison St  San Francisco    CA        1   \n",
       "2870         GOA      Larkin St/bush St  San Francisco    CA        1   \n",
       "364          ADV     Block Of Haight St  San Francisco    CA        1   \n",
       "\n",
       "          AddressType  \n",
       "8857     Intersection  \n",
       "2870     Intersection  \n",
       "364   Premise Address  "
      ]
     },
     "execution_count": 32,
     "metadata": {},
     "output_type": "execute_result"
    }
   ],
   "source": [
    "'''Una vez terminado el error 2 podemos apreciar como existe una ciudad S, \n",
    "ademas de varias ciudades que San fracisco se escribio de manera repetida, \n",
    "corregiremos este error llamandolos a los 3 por unicamente San Francisco'''\n",
    "df['City']= df['City'].replace(' S','San Francisco')\n",
    "df['City'] = df['City'].replace('SAN FRANCISCO','San Francisco');\n",
    "df.sample(3)"
   ]
  },
  {
   "cell_type": "markdown",
   "id": "0c486257",
   "metadata": {},
   "source": [
    "## Verificacion Error 3"
   ]
  },
  {
   "cell_type": "markdown",
   "id": "f5fd8ff8",
   "metadata": {},
   "source": [
    "Anteriormente en el paso numero 2 se pudo rellenar datos vacios que poseen nuestra columna ciudad, sin embargo esta posee mas errores que no se deben pasar por alto. Si se aprecia claramente en la verificacion del error 2, la columna city, posee una ciudad llamada unicamente \"S\" podemos intuir que pertenece a San francisco ya que no existe una ciudad como tal llamada \"S\". Ademas se aprecia como la ciudad de San francisco, esta escrita dos veces de manera diferente, esto se arreglara reemplazanso aquelas ciudad de S y sana francisco en una sola. Como se puede apreciar, al momento de realziar la funcion groupby, las ciudad \"S\" ya no existe, ademas que San francisco es una sola y estas tres ciudades fueron unidas en una sola."
   ]
  },
  {
   "cell_type": "code",
   "execution_count": 34,
   "id": "3ad61bf5",
   "metadata": {},
   "outputs": [
    {
     "data": {
      "text/plain": [
       "City\n",
       "Brisbane            1\n",
       "Daly City           5\n",
       "N/A               321\n",
       "Presidio            3\n",
       "San Francisco    9667\n",
       "Treasure Isla      51\n",
       "Yerba Buena         3\n",
       "dtype: int64"
      ]
     },
     "execution_count": 34,
     "metadata": {},
     "output_type": "execute_result"
    }
   ],
   "source": [
    "'''Verificamos las ciudades dentro de la columna city '''\n",
    "df.groupby('City').size()"
   ]
  },
  {
   "cell_type": "markdown",
   "id": "d3dd23e9",
   "metadata": {},
   "source": [
    "# Error 4\n",
    "# Control de tipo de direcciones, columna \"AddressType\""
   ]
  },
  {
   "cell_type": "code",
   "execution_count": 43,
   "id": "391da13a",
   "metadata": {},
   "outputs": [
    {
     "data": {
      "text/plain": [
       "AddressType\n",
       "1                     3\n",
       "Common Location     818\n",
       "Geo-Override        469\n",
       "Intersection       3701\n",
       "Intersectioon         1\n",
       "Premise Address    5059\n",
       "dtype: int64"
      ]
     },
     "execution_count": 43,
     "metadata": {},
     "output_type": "execute_result"
    }
   ],
   "source": [
    "'''Verificamos los tipos de direcciones '''\n",
    "df.groupby('AddressType').size()"
   ]
  },
  {
   "cell_type": "code",
   "execution_count": 48,
   "id": "1128c3b3",
   "metadata": {},
   "outputs": [
    {
     "data": {
      "text/html": [
       "<div>\n",
       "<style scoped>\n",
       "    .dataframe tbody tr th:only-of-type {\n",
       "        vertical-align: middle;\n",
       "    }\n",
       "\n",
       "    .dataframe tbody tr th {\n",
       "        vertical-align: top;\n",
       "    }\n",
       "\n",
       "    .dataframe thead th {\n",
       "        text-align: right;\n",
       "    }\n",
       "</style>\n",
       "<table border=\"1\" class=\"dataframe\">\n",
       "  <thead>\n",
       "    <tr style=\"text-align: right;\">\n",
       "      <th></th>\n",
       "      <th>CrimeId</th>\n",
       "      <th>OriginalCrimeTypeName</th>\n",
       "      <th>OffenseDate</th>\n",
       "      <th>CallTime</th>\n",
       "      <th>Disposition</th>\n",
       "      <th>Address</th>\n",
       "      <th>City</th>\n",
       "      <th>State</th>\n",
       "      <th>AgencyId</th>\n",
       "      <th>AddressType</th>\n",
       "    </tr>\n",
       "  </thead>\n",
       "  <tbody>\n",
       "    <tr>\n",
       "      <th>5563</th>\n",
       "      <td>160941747</td>\n",
       "      <td>Dw</td>\n",
       "      <td>2016-04-03T00:00:00</td>\n",
       "      <td>12:40</td>\n",
       "      <td>CAN</td>\n",
       "      <td>1300 Block Of Vallejo St</td>\n",
       "      <td>San Francisco</td>\n",
       "      <td>CA</td>\n",
       "      <td>1</td>\n",
       "      <td>Premise Address</td>\n",
       "    </tr>\n",
       "    <tr>\n",
       "      <th>5892</th>\n",
       "      <td>160942335</td>\n",
       "      <td>Traffic Stop</td>\n",
       "      <td>2016-04-03T00:00:00</td>\n",
       "      <td>15:34</td>\n",
       "      <td>CIT</td>\n",
       "      <td>6th St/jessie St</td>\n",
       "      <td>San Francisco</td>\n",
       "      <td>CA</td>\n",
       "      <td>1</td>\n",
       "      <td>Intersection</td>\n",
       "    </tr>\n",
       "    <tr>\n",
       "      <th>3956</th>\n",
       "      <td>160932921</td>\n",
       "      <td>Burglary</td>\n",
       "      <td>2016-04-02T00:00:00</td>\n",
       "      <td>18:31</td>\n",
       "      <td>UTL</td>\n",
       "      <td>1000 Block Of Market St</td>\n",
       "      <td>San Francisco</td>\n",
       "      <td>CA</td>\n",
       "      <td>1</td>\n",
       "      <td>Premise Address</td>\n",
       "    </tr>\n",
       "  </tbody>\n",
       "</table>\n",
       "</div>"
      ],
      "text/plain": [
       "        CrimeId OriginalCrimeTypeName          OffenseDate CallTime  \\\n",
       "5563  160941747                    Dw  2016-04-03T00:00:00    12:40   \n",
       "5892  160942335          Traffic Stop  2016-04-03T00:00:00    15:34   \n",
       "3956  160932921              Burglary  2016-04-02T00:00:00    18:31   \n",
       "\n",
       "     Disposition                   Address           City State AgencyId  \\\n",
       "5563         CAN  1300 Block Of Vallejo St  San Francisco    CA        1   \n",
       "5892         CIT          6th St/jessie St  San Francisco    CA        1   \n",
       "3956         UTL   1000 Block Of Market St  San Francisco    CA        1   \n",
       "\n",
       "          AddressType  \n",
       "5563  Premise Address  \n",
       "5892     Intersection  \n",
       "3956  Premise Address  "
      ]
     },
     "execution_count": 48,
     "metadata": {},
     "output_type": "execute_result"
    }
   ],
   "source": [
    "'''Remplazaamos la el tipo de direccion \"1\" por Common Location a traves de replace'''\n",
    "df['AddressType']= df['AddressType'].replace('1','Common Location')\n",
    "df.sample(3)"
   ]
  },
  {
   "cell_type": "markdown",
   "id": "922452a3",
   "metadata": {},
   "source": [
    "## Verificacion Error 4"
   ]
  },
  {
   "cell_type": "markdown",
   "id": "070ee6c0",
   "metadata": {},
   "source": [
    "Como se puede apreciar en nuestra primera consulta de caracter groupby realizada anteriormente hacia la columa \"AddressType\", esta columa posee diversos tipos de direcciones. Sin embargo, se puede obsrva que existe una direccion denominada unicamente \"1\", este valor es consideradom erroneo ya que no sigue la logica de las demas direcciones al ser unicamente un valor numerico. Para corregir este error se todo en consideracion este tipo de direccion por el tipo \"Common Location\" ya que se prevee que se trato de señalar este campo que este ocupa el primero lugar de la lista. De este modo se reemplazo modifico el campo a traves de la funcion replace asignando el noombre Common Location. A continuacion, se aprecia como al relizar una nueva consulta groupby hacia dicha columna, el tipo de direccion 1 fue reemplazado, teniendo un mayor sentido dentro de la base de datos."
   ]
  },
  {
   "cell_type": "code",
   "execution_count": 50,
   "id": "6a2b3d51",
   "metadata": {},
   "outputs": [
    {
     "data": {
      "text/plain": [
       "AddressType\n",
       "Common Location     821\n",
       "Geo-Override        469\n",
       "Intersection       3701\n",
       "Intersectioon         1\n",
       "Premise Address    5059\n",
       "dtype: int64"
      ]
     },
     "execution_count": 50,
     "metadata": {},
     "output_type": "execute_result"
    }
   ],
   "source": [
    "'''Verificamos los tipos de direcciones ya modificados'''\n",
    "df.groupby('AddressType').size()"
   ]
  },
  {
   "cell_type": "markdown",
   "id": "61208c37",
   "metadata": {},
   "source": [
    "# Error 5\n",
    "# Control de la fecha mediante la modificacion del formato al momento de su impresion, columna \"OffenseDate\""
   ]
  },
  {
   "cell_type": "code",
   "execution_count": 52,
   "id": "9f888514",
   "metadata": {},
   "outputs": [
    {
     "data": {
      "text/html": [
       "<div>\n",
       "<style scoped>\n",
       "    .dataframe tbody tr th:only-of-type {\n",
       "        vertical-align: middle;\n",
       "    }\n",
       "\n",
       "    .dataframe tbody tr th {\n",
       "        vertical-align: top;\n",
       "    }\n",
       "\n",
       "    .dataframe thead th {\n",
       "        text-align: right;\n",
       "    }\n",
       "</style>\n",
       "<table border=\"1\" class=\"dataframe\">\n",
       "  <thead>\n",
       "    <tr style=\"text-align: right;\">\n",
       "      <th></th>\n",
       "      <th>CrimeId</th>\n",
       "      <th>OriginalCrimeTypeName</th>\n",
       "      <th>OffenseDate</th>\n",
       "      <th>CallTime</th>\n",
       "      <th>Disposition</th>\n",
       "      <th>Address</th>\n",
       "      <th>City</th>\n",
       "      <th>State</th>\n",
       "      <th>AgencyId</th>\n",
       "      <th>AddressType</th>\n",
       "    </tr>\n",
       "  </thead>\n",
       "  <tbody>\n",
       "    <tr>\n",
       "      <th>8046</th>\n",
       "      <td>160952324</td>\n",
       "      <td>Traffic Stop</td>\n",
       "      <td>2016-04-04T00:00:00</td>\n",
       "      <td>14:57</td>\n",
       "      <td>ADV</td>\n",
       "      <td>Broadway/kearny St</td>\n",
       "      <td>San Francisco</td>\n",
       "      <td>CA</td>\n",
       "      <td>1</td>\n",
       "      <td>Intersection</td>\n",
       "    </tr>\n",
       "    <tr>\n",
       "      <th>2512</th>\n",
       "      <td>160930321</td>\n",
       "      <td>917</td>\n",
       "      <td>2016-04-02T00:00:00</td>\n",
       "      <td>2:14</td>\n",
       "      <td>GOA</td>\n",
       "      <td>Leavenworth St/beach St</td>\n",
       "      <td>San Francisco</td>\n",
       "      <td>CA</td>\n",
       "      <td>1</td>\n",
       "      <td>Intersection</td>\n",
       "    </tr>\n",
       "    <tr>\n",
       "      <th>8967</th>\n",
       "      <td>160954080</td>\n",
       "      <td>Homeless Complaint</td>\n",
       "      <td>2016-04-04T00:00:00</td>\n",
       "      <td>23:04</td>\n",
       "      <td>ADM</td>\n",
       "      <td>500 Block Of 8th Av</td>\n",
       "      <td>San Francisco</td>\n",
       "      <td>CA</td>\n",
       "      <td>1</td>\n",
       "      <td>Premise Address</td>\n",
       "    </tr>\n",
       "  </tbody>\n",
       "</table>\n",
       "</div>"
      ],
      "text/plain": [
       "        CrimeId OriginalCrimeTypeName          OffenseDate CallTime  \\\n",
       "8046  160952324          Traffic Stop  2016-04-04T00:00:00    14:57   \n",
       "2512  160930321                   917  2016-04-02T00:00:00     2:14   \n",
       "8967  160954080    Homeless Complaint  2016-04-04T00:00:00    23:04   \n",
       "\n",
       "     Disposition                  Address           City State AgencyId  \\\n",
       "8046         ADV       Broadway/kearny St  San Francisco    CA        1   \n",
       "2512         GOA  Leavenworth St/beach St  San Francisco    CA        1   \n",
       "8967         ADM      500 Block Of 8th Av  San Francisco    CA        1   \n",
       "\n",
       "          AddressType  \n",
       "8046     Intersection  \n",
       "2512     Intersection  \n",
       "8967  Premise Address  "
      ]
     },
     "execution_count": 52,
     "metadata": {},
     "output_type": "execute_result"
    }
   ],
   "source": [
    "'''Verificamos que el formato de fecha no es adecuado'''\n",
    "df.sample(3)"
   ]
  },
  {
   "cell_type": "code",
   "execution_count": 54,
   "id": "85cfc1cf",
   "metadata": {},
   "outputs": [
    {
     "data": {
      "text/plain": [
       "CrimeId                   int64\n",
       "OriginalCrimeTypeName    object\n",
       "OffenseDate              object\n",
       "CallTime                 object\n",
       "Disposition              object\n",
       "Address                  object\n",
       "City                     object\n",
       "State                    object\n",
       "AgencyId                 object\n",
       "AddressType              object\n",
       "dtype: object"
      ]
     },
     "execution_count": 54,
     "metadata": {},
     "output_type": "execute_result"
    }
   ],
   "source": [
    "'''Podemos apreciar como una columa que posee fechas esta delimitado por variables de tipo objeto'''\n",
    "df.dtypes"
   ]
  },
  {
   "cell_type": "code",
   "execution_count": 58,
   "id": "06519657",
   "metadata": {},
   "outputs": [],
   "source": [
    "'''A traves de la funcion pd.to_datetime ofrecida por pandas, podemos moficiar\n",
    "el formato de impresion de la fecha pertenecientea la cluma OffenseDate'''\n",
    "df['OffenseDate'] = pd.to_datetime(df['OffenseDate'])"
   ]
  },
  {
   "cell_type": "markdown",
   "id": "5b0328af",
   "metadata": {},
   "source": [
    "## Verificacion Error 5"
   ]
  },
  {
   "cell_type": "markdown",
   "id": "1191fc4c",
   "metadata": {},
   "source": [
    "Posteriormente podemos apreciar un nuevo error el cual pertenece al formato de fechas de impresion de la columa \"OffenseDate\". Este error es ocasiado debido al tipo de datos que posee dicha columna, el cual pertenece a variables de tipo objeto. Como podemos apreciar este error es solucionado debido a la funcion que ofrece pandas denominado \"pd.to_datetime\" el cual es modificar el el tipo de datos a datetime. A continuacion, podemos apreciar como se modifico el tipo de atos debido al analisis de cada una de las columnas mediante \"df.dtypes\" y de una manera mas grafica a traves de la impresion del nuevo dataset, el cual posee el formato de fecha mas adecuado."
   ]
  },
  {
   "cell_type": "code",
   "execution_count": 57,
   "id": "b3f8c42c",
   "metadata": {},
   "outputs": [
    {
     "data": {
      "text/plain": [
       "CrimeId                           int64\n",
       "OriginalCrimeTypeName            object\n",
       "OffenseDate              datetime64[ns]\n",
       "CallTime                         object\n",
       "Disposition                      object\n",
       "Address                          object\n",
       "City                             object\n",
       "State                            object\n",
       "AgencyId                         object\n",
       "AddressType                      object\n",
       "dtype: object"
      ]
     },
     "execution_count": 57,
     "metadata": {},
     "output_type": "execute_result"
    }
   ],
   "source": [
    "'''Podemos apreciar como la columa \"OffenseDate\" fue modificado por variables Datetime '''\n",
    "df.dtypes"
   ]
  },
  {
   "cell_type": "code",
   "execution_count": 59,
   "id": "d7e76fc5",
   "metadata": {},
   "outputs": [
    {
     "data": {
      "text/html": [
       "<div>\n",
       "<style scoped>\n",
       "    .dataframe tbody tr th:only-of-type {\n",
       "        vertical-align: middle;\n",
       "    }\n",
       "\n",
       "    .dataframe tbody tr th {\n",
       "        vertical-align: top;\n",
       "    }\n",
       "\n",
       "    .dataframe thead th {\n",
       "        text-align: right;\n",
       "    }\n",
       "</style>\n",
       "<table border=\"1\" class=\"dataframe\">\n",
       "  <thead>\n",
       "    <tr style=\"text-align: right;\">\n",
       "      <th></th>\n",
       "      <th>CrimeId</th>\n",
       "      <th>OriginalCrimeTypeName</th>\n",
       "      <th>OffenseDate</th>\n",
       "      <th>CallTime</th>\n",
       "      <th>Disposition</th>\n",
       "      <th>Address</th>\n",
       "      <th>City</th>\n",
       "      <th>State</th>\n",
       "      <th>AgencyId</th>\n",
       "      <th>AddressType</th>\n",
       "    </tr>\n",
       "  </thead>\n",
       "  <tbody>\n",
       "    <tr>\n",
       "      <th>9513</th>\n",
       "      <td>160961916</td>\n",
       "      <td>Suspicious Person</td>\n",
       "      <td>2016-04-05</td>\n",
       "      <td>13:20</td>\n",
       "      <td>CIT</td>\n",
       "      <td>Geary St/polk St</td>\n",
       "      <td>San Francisco</td>\n",
       "      <td>CA</td>\n",
       "      <td>1</td>\n",
       "      <td>Intersection</td>\n",
       "    </tr>\n",
       "    <tr>\n",
       "      <th>8319</th>\n",
       "      <td>160952832</td>\n",
       "      <td>Auto Boost / Strip</td>\n",
       "      <td>2016-04-04</td>\n",
       "      <td>16:58</td>\n",
       "      <td>REP</td>\n",
       "      <td>3600 Block Of Lyon St</td>\n",
       "      <td>San Francisco</td>\n",
       "      <td>CA</td>\n",
       "      <td>1</td>\n",
       "      <td>Common Location</td>\n",
       "    </tr>\n",
       "    <tr>\n",
       "      <th>8476</th>\n",
       "      <td>160953121</td>\n",
       "      <td>Fight No Weapon</td>\n",
       "      <td>2016-04-04</td>\n",
       "      <td>18:11</td>\n",
       "      <td>HAN</td>\n",
       "      <td>16th St/mission St</td>\n",
       "      <td>San Francisco</td>\n",
       "      <td>CA</td>\n",
       "      <td>1</td>\n",
       "      <td>Intersection</td>\n",
       "    </tr>\n",
       "  </tbody>\n",
       "</table>\n",
       "</div>"
      ],
      "text/plain": [
       "        CrimeId OriginalCrimeTypeName OffenseDate CallTime Disposition  \\\n",
       "9513  160961916     Suspicious Person  2016-04-05    13:20         CIT   \n",
       "8319  160952832    Auto Boost / Strip  2016-04-04    16:58         REP   \n",
       "8476  160953121       Fight No Weapon  2016-04-04    18:11         HAN   \n",
       "\n",
       "                    Address           City State AgencyId      AddressType  \n",
       "9513       Geary St/polk St  San Francisco    CA        1     Intersection  \n",
       "8319  3600 Block Of Lyon St  San Francisco    CA        1  Common Location  \n",
       "8476     16th St/mission St  San Francisco    CA        1     Intersection  "
      ]
     },
     "execution_count": 59,
     "metadata": {},
     "output_type": "execute_result"
    }
   ],
   "source": [
    "'''Verificamos los como los datos de la columa \"OffenseDate\" fueron modificados, \n",
    "permitiendo un mayor entendimiento de las fechas'''\n",
    "df.sample(3)"
   ]
  },
  {
   "cell_type": "markdown",
   "id": "cc83a484",
   "metadata": {},
   "source": [
    "# Error 6\n",
    "# Control de estados, columna \"state\""
   ]
  },
  {
   "cell_type": "code",
   "execution_count": 65,
   "id": "231d0995",
   "metadata": {},
   "outputs": [
    {
     "data": {
      "text/plain": [
       "State\n",
       "CA     10048\n",
       "N/A        3\n",
       "dtype: int64"
      ]
     },
     "execution_count": 65,
     "metadata": {},
     "output_type": "execute_result"
    }
   ],
   "source": [
    "'''Verificamos nuevamente los estados de la columa \"State\"'''\n",
    "df.groupby('State').size()"
   ]
  },
  {
   "cell_type": "code",
   "execution_count": 67,
   "id": "3d6d7a73",
   "metadata": {},
   "outputs": [],
   "source": [
    "'''Reemplazamos los valores de \"N/A\" de la columna state por \"CA\", con el fin\n",
    "de mantener el orden en la BDD'''\n",
    "df['State']= df['State'].replace(\"N/A\" ,'CA')"
   ]
  },
  {
   "cell_type": "markdown",
   "id": "4f3662ba",
   "metadata": {},
   "source": [
    "## Verificacion Error 6"
   ]
  },
  {
   "cell_type": "markdown",
   "id": "5550be77",
   "metadata": {},
   "source": [
    "Anteriormente se realizo la modificacion de valores nulos los cuales\n",
    "pertenecen a los estados. Se realizara el reemplazo ded datos de la columna \"State\"que no tenga asignado a nungun estado. Este paso se realiza debido que la base de datos trata de la criminalidad dentro del estado de california, esto indica que no pueden existir datos sin asignacion del estado al que pertenece debido a que rompe la funcion de la base de datos. Para la asignacion de los estados se realiza el reemplazo a traves de la funcion replace. Finalmente podemos realizar la agrupacion por tamaño de la columa state y verificamos que todos los datos pertenecen al estado de california, de igual manera realizamos la impresion de la BDD para verificar el estado asignado"
   ]
  },
  {
   "cell_type": "code",
   "execution_count": 68,
   "id": "de3e5594",
   "metadata": {},
   "outputs": [
    {
     "data": {
      "text/plain": [
       "State\n",
       "CA    10051\n",
       "dtype: int64"
      ]
     },
     "execution_count": 68,
     "metadata": {},
     "output_type": "execute_result"
    }
   ],
   "source": [
    "'''Verificamos los datos de la columa \"State\" ya modificados'''\n",
    "df.groupby('State').size()"
   ]
  },
  {
   "cell_type": "code",
   "execution_count": 69,
   "id": "7e871d05",
   "metadata": {},
   "outputs": [
    {
     "data": {
      "text/html": [
       "<div>\n",
       "<style scoped>\n",
       "    .dataframe tbody tr th:only-of-type {\n",
       "        vertical-align: middle;\n",
       "    }\n",
       "\n",
       "    .dataframe tbody tr th {\n",
       "        vertical-align: top;\n",
       "    }\n",
       "\n",
       "    .dataframe thead th {\n",
       "        text-align: right;\n",
       "    }\n",
       "</style>\n",
       "<table border=\"1\" class=\"dataframe\">\n",
       "  <thead>\n",
       "    <tr style=\"text-align: right;\">\n",
       "      <th></th>\n",
       "      <th>CrimeId</th>\n",
       "      <th>OriginalCrimeTypeName</th>\n",
       "      <th>OffenseDate</th>\n",
       "      <th>CallTime</th>\n",
       "      <th>Disposition</th>\n",
       "      <th>Address</th>\n",
       "      <th>City</th>\n",
       "      <th>State</th>\n",
       "      <th>AgencyId</th>\n",
       "      <th>AddressType</th>\n",
       "    </tr>\n",
       "  </thead>\n",
       "  <tbody>\n",
       "    <tr>\n",
       "      <th>656</th>\n",
       "      <td>160920965</td>\n",
       "      <td>Homeless Complaint</td>\n",
       "      <td>2016-04-01</td>\n",
       "      <td>9:26</td>\n",
       "      <td>ND</td>\n",
       "      <td>Jones St/sutter St</td>\n",
       "      <td>San Francisco</td>\n",
       "      <td>CA</td>\n",
       "      <td>1</td>\n",
       "      <td>Intersection</td>\n",
       "    </tr>\n",
       "    <tr>\n",
       "      <th>6210</th>\n",
       "      <td>160942876</td>\n",
       "      <td>Passing Call</td>\n",
       "      <td>2016-04-03</td>\n",
       "      <td>18:10</td>\n",
       "      <td>Not recorded</td>\n",
       "      <td>1100 Block Of Market St</td>\n",
       "      <td>San Francisco</td>\n",
       "      <td>CA</td>\n",
       "      <td>1</td>\n",
       "      <td>Common Location</td>\n",
       "    </tr>\n",
       "    <tr>\n",
       "      <th>2390</th>\n",
       "      <td>160930114</td>\n",
       "      <td>Encampment</td>\n",
       "      <td>2016-04-02</td>\n",
       "      <td>0:43</td>\n",
       "      <td>Not recorded</td>\n",
       "      <td>100 Block Of Mcallister St</td>\n",
       "      <td>San Francisco</td>\n",
       "      <td>CA</td>\n",
       "      <td>1</td>\n",
       "      <td>Premise Address</td>\n",
       "    </tr>\n",
       "  </tbody>\n",
       "</table>\n",
       "</div>"
      ],
      "text/plain": [
       "        CrimeId OriginalCrimeTypeName OffenseDate CallTime   Disposition  \\\n",
       "656   160920965    Homeless Complaint  2016-04-01     9:26            ND   \n",
       "6210  160942876          Passing Call  2016-04-03    18:10  Not recorded   \n",
       "2390  160930114            Encampment  2016-04-02     0:43  Not recorded   \n",
       "\n",
       "                         Address           City State AgencyId  \\\n",
       "656           Jones St/sutter St  San Francisco    CA        1   \n",
       "6210     1100 Block Of Market St  San Francisco    CA        1   \n",
       "2390  100 Block Of Mcallister St  San Francisco    CA        1   \n",
       "\n",
       "          AddressType  \n",
       "656      Intersection  \n",
       "6210  Common Location  \n",
       "2390  Premise Address  "
      ]
     },
     "execution_count": 69,
     "metadata": {},
     "output_type": "execute_result"
    }
   ],
   "source": [
    "'''Verificamos el nuevo dataset con las modificacion de los estados'''\n",
    "df.sample(3)"
   ]
  },
  {
   "cell_type": "markdown",
   "id": "98ed5534",
   "metadata": {},
   "source": [
    "# Exportacion de dataset en formato JSON"
   ]
  },
  {
   "cell_type": "code",
   "execution_count": 70,
   "id": "2bcd5305",
   "metadata": {},
   "outputs": [],
   "source": [
    "'''Una vez realizada las modificaciones al dataset se exportara en formato JSON\n",
    "mediante la funcion \"df.to_json\"'''\n",
    "df.to_json('data_act_01_CaizaKlar.json', orient='records', lines=True)"
   ]
  }
 ],
 "metadata": {
  "kernelspec": {
   "display_name": "Python 3 (ipykernel)",
   "language": "python",
   "name": "python3"
  },
  "language_info": {
   "codemirror_mode": {
    "name": "ipython",
    "version": 3
   },
   "file_extension": ".py",
   "mimetype": "text/x-python",
   "name": "python",
   "nbconvert_exporter": "python",
   "pygments_lexer": "ipython3",
   "version": "3.9.12"
  }
 },
 "nbformat": 4,
 "nbformat_minor": 5
}
